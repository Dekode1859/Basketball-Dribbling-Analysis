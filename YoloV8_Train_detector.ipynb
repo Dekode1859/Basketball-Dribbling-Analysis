{
  "cells": [
    {
      "cell_type": "code",
      "execution_count": null,
      "metadata": {
        "colab": {
          "base_uri": "https://localhost:8080/",
          "height": 1000
        },
        "id": "N6QITGArP_xS",
        "outputId": "b72874c1-ae4c-4467-87a3-afd99cc28b03"
      },
      "outputs": [],
      "source": [
        "%pip install ultralytics\n",
        "%pip install roboflow\n",
        "import ultralytics\n",
        "ultralytics.checks()"
      ]
    },
    {
      "cell_type": "code",
      "execution_count": null,
      "metadata": {
        "colab": {
          "base_uri": "https://localhost:8080/"
        },
        "id": "rVHQlRX2QIz-",
        "outputId": "14da7ac8-48e7-4c1b-af61-49fc76f4973c"
      },
      "outputs": [],
      "source": [
        "from ultralytics import YOLO\n",
        "model = YOLO('yolov8l.yaml')  # build a new model from YAML\n",
        "model = YOLO('yolov8l.pt')  # load a pretrained model (recommended for training)\n",
        "model = YOLO('yolov8l.yaml').load('yolov8l.pt')  # build from YAML and transfer weights"
      ]
    },
    {
      "cell_type": "code",
      "execution_count": null,
      "metadata": {
        "colab": {
          "base_uri": "https://localhost:8080/"
        },
        "id": "uhmswbk2QIwm",
        "outputId": "9abe7d18-2676-4883-81b1-88d6a60750c9"
      },
      "outputs": [],
      "source": [
        "from roboflow import Roboflow\n",
        "rf = Roboflow(api_key=\"YOUR_API_KEY\")\n",
        "project = rf.workspace(\"vaishnavi-jade\").project(\"basketball-ec2xx\")\n",
        "dataset = project.version(1).download(\"yolov8\")"
      ]
    },
    {
      "cell_type": "code",
      "execution_count": null,
      "metadata": {
        "colab": {
          "base_uri": "https://localhost:8080/"
        },
        "id": "MBuMiXNrQU68",
        "outputId": "63a421b2-7798-473e-b653-15d20d5f57a3"
      },
      "outputs": [],
      "source": [
        "# Train the model\n",
        "results = model.train(data='/content/basketball-1/data.yaml', epochs=30, imgsz=640, save=True, resume=True)"
      ]
    },
    {
      "cell_type": "code",
      "execution_count": null,
      "metadata": {},
      "outputs": [],
      "source": [
        "# export the best.pt file from colab using colab export\n",
        "from google.colab import files\n",
        "files.download(\"/content/runs/detect/train/weights/best.pt\")\n",
        "files.download(\"/content/runs/detect/train/results.csv\")"
      ]
    },
    {
      "cell_type": "code",
      "execution_count": null,
      "metadata": {
        "id": "aITNrepkQZJ-"
      },
      "outputs": [],
      "source": [
        "# comment the next two lines if you trained the model in the previous code block\n",
        "model = YOLO('yolov8l.pt')  # load an official model\n",
        "model = YOLO('/content/best.pt') # load your trained weights"
      ]
    },
    {
      "cell_type": "code",
      "execution_count": null,
      "metadata": {
        "colab": {
          "base_uri": "https://localhost:8080/"
        },
        "id": "V8fXhUvjCxIr",
        "outputId": "e2794816-8c6f-4e74-b6c1-046ea864e64d"
      },
      "outputs": [],
      "source": [
        "res = model.predict(\"/content/image_2024-02-17_223937100.png\")"
      ]
    },
    {
      "cell_type": "code",
      "execution_count": null,
      "metadata": {
        "colab": {
          "base_uri": "https://localhost:8080/"
        },
        "id": "rTdk5zvPC7rk",
        "outputId": "97cce496-717e-4307-f636-392455232dfa"
      },
      "outputs": [],
      "source": [
        "for r in res:\n",
        "    # print(r.names[0])\n",
        "    r.save()"
      ]
    },
    {
      "cell_type": "code",
      "execution_count": null,
      "metadata": {
        "colab": {
          "base_uri": "https://localhost:8080/",
          "height": 1000
        },
        "id": "nGwNKSiZE1jn",
        "outputId": "d6b47566-b339-446e-c7e4-78244a65e9be"
      },
      "outputs": [],
      "source": [
        "# import cv2\n",
        "# from google.colab.patches import cv2_imshow\n",
        "# cap = cv2.VideoCapture(\"/content/WHATSAAP ASSIGNMENT.mp4\")\n",
        "\n",
        "# while True:\n",
        "#     ret, img = cap.read()\n",
        "#     result = model(img, stream=True)\n",
        "#     for r in result:\n",
        "#         boxes = r.boxes\n",
        "#         for box in boxes:\n",
        "#             x1, y1, x2, y2 = box.xyxy[0]\n",
        "#             x1, y1, x2, y2 = int(x1), int(y1), int(x2), int(y2)\n",
        "#             cv2.rectangle(img, (x1,y1), (x2,y2), (255,0,255),3)\n",
        "#     cv2_imshow(img)"
      ]
    },
    {
      "cell_type": "code",
      "execution_count": null,
      "metadata": {
        "id": "x5_cLhjbS-kV"
      },
      "outputs": [],
      "source": [
        "def save_result(model, image_path):\n",
        "    res = model.predict(image_path)\n",
        "    name = image_path[9:]\n",
        "    for r in res:\n",
        "        r.save(filename=\"result_\"+name)"
      ]
    },
    {
      "cell_type": "code",
      "execution_count": null,
      "metadata": {
        "id": "Z2I9UuxnTZWw"
      },
      "outputs": [],
      "source": [
        "import os\n",
        "for file in os.listdir('/content'):\n",
        "    if file.endswith('.jpg'):\n",
        "        save_result(model, '/content/'+file)"
      ]
    },
    {
      "cell_type": "code",
      "execution_count": null,
      "metadata": {
        "id": "x3vv8HOLXBw2"
      },
      "outputs": [],
      "source": [
        "# download the results\n",
        "!zip -r /content/results.zip /content/result_*.jpg\n",
        "from google.colab import files\n",
        "\n",
        "files.download(\"/content/results.zip\")"
      ]
    },
    {
      "cell_type": "code",
      "execution_count": null,
      "metadata": {
        "id": "6hTHz8QNXafA"
      },
      "outputs": [],
      "source": []
    }
  ],
  "metadata": {
    "accelerator": "GPU",
    "colab": {
      "gpuType": "T4",
      "provenance": []
    },
    "kernelspec": {
      "display_name": "Python 3",
      "name": "python3"
    },
    "language_info": {
      "name": "python",
      "version": "3.9.0"
    }
  },
  "nbformat": 4,
  "nbformat_minor": 0
}
